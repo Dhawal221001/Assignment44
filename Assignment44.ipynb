{
 "cells": [
  {
   "cell_type": "markdown",
   "id": "62e159c2-15a2-4c7e-8c08-9ffe803f7822",
   "metadata": {},
   "source": [
    "## Q1. Pearson correlation coefficient is a measure of the linear relationship between two variables. Suppose you have collected data on the amount of time students spend studying for an exam and their final exam scores. Calculate the Pearson correlation coefficient between these two variables and interpret the result."
   ]
  },
  {
   "cell_type": "code",
   "execution_count": 1,
   "id": "6607e960-b68a-4036-8a58-584980bac482",
   "metadata": {},
   "outputs": [],
   "source": [
    "import pandas as pd"
   ]
  },
  {
   "cell_type": "code",
   "execution_count": 2,
   "id": "731d547c-6294-4d2c-9df8-56891f8c44c8",
   "metadata": {},
   "outputs": [],
   "source": [
    "df= pd.DataFrame({'Study_time':[3,4.5,2.8,4,3.9,5.1,3.7],\n",
    "                 'Final_score':[67,85,70,85,80,99,91]})"
   ]
  },
  {
   "cell_type": "code",
   "execution_count": 3,
   "id": "2b67d5b9-6fe2-4aaa-bfc3-d3675fbaf4fd",
   "metadata": {},
   "outputs": [
    {
     "data": {
      "text/html": [
       "<div>\n",
       "<style scoped>\n",
       "    .dataframe tbody tr th:only-of-type {\n",
       "        vertical-align: middle;\n",
       "    }\n",
       "\n",
       "    .dataframe tbody tr th {\n",
       "        vertical-align: top;\n",
       "    }\n",
       "\n",
       "    .dataframe thead th {\n",
       "        text-align: right;\n",
       "    }\n",
       "</style>\n",
       "<table border=\"1\" class=\"dataframe\">\n",
       "  <thead>\n",
       "    <tr style=\"text-align: right;\">\n",
       "      <th></th>\n",
       "      <th>Study_time</th>\n",
       "      <th>Final_score</th>\n",
       "    </tr>\n",
       "  </thead>\n",
       "  <tbody>\n",
       "    <tr>\n",
       "      <th>Study_time</th>\n",
       "      <td>1.000000</td>\n",
       "      <td>0.878005</td>\n",
       "    </tr>\n",
       "    <tr>\n",
       "      <th>Final_score</th>\n",
       "      <td>0.878005</td>\n",
       "      <td>1.000000</td>\n",
       "    </tr>\n",
       "  </tbody>\n",
       "</table>\n",
       "</div>"
      ],
      "text/plain": [
       "             Study_time  Final_score\n",
       "Study_time     1.000000     0.878005\n",
       "Final_score    0.878005     1.000000"
      ]
     },
     "execution_count": 3,
     "metadata": {},
     "output_type": "execute_result"
    }
   ],
   "source": [
    "df.corr(method='pearson')"
   ]
  },
  {
   "cell_type": "markdown",
   "id": "ba00ba21-dfaa-4720-b509-d751a992d8aa",
   "metadata": {},
   "source": [
    "### Covariance came out to be 0.878 that means Study time and Final exam score are highly correlated and in positive direction."
   ]
  },
  {
   "cell_type": "markdown",
   "id": "642a83db-9294-4014-99f1-f37f1123244c",
   "metadata": {},
   "source": [
    "## Q2. Spearman's rank correlation is a measure of the monotonic relationship between two variables. Suppose you have collected data on the amount of sleep individuals get each night and their overall job satisfaction level on a scale of 1 to 10. Calculate the Spearman's rank correlation between these two variables and interpret the result."
   ]
  },
  {
   "cell_type": "code",
   "execution_count": 4,
   "id": "bcdb68f8-fb8e-4ff1-9150-b3b18686859f",
   "metadata": {},
   "outputs": [],
   "source": [
    "df1=pd.DataFrame({'Amount_sleep':[8,7,6.8,8.2,9,4,7.7],\n",
    "                 'Job_satisfaction':[8,8,5,7,6,5,9]})"
   ]
  },
  {
   "cell_type": "code",
   "execution_count": 5,
   "id": "23cbf7e3-27ac-441c-981f-7e81e548f7d2",
   "metadata": {},
   "outputs": [
    {
     "data": {
      "text/html": [
       "<div>\n",
       "<style scoped>\n",
       "    .dataframe tbody tr th:only-of-type {\n",
       "        vertical-align: middle;\n",
       "    }\n",
       "\n",
       "    .dataframe tbody tr th {\n",
       "        vertical-align: top;\n",
       "    }\n",
       "\n",
       "    .dataframe thead th {\n",
       "        text-align: right;\n",
       "    }\n",
       "</style>\n",
       "<table border=\"1\" class=\"dataframe\">\n",
       "  <thead>\n",
       "    <tr style=\"text-align: right;\">\n",
       "      <th></th>\n",
       "      <th>Amount_sleep</th>\n",
       "      <th>Job_satisfaction</th>\n",
       "    </tr>\n",
       "  </thead>\n",
       "  <tbody>\n",
       "    <tr>\n",
       "      <th>Amount_sleep</th>\n",
       "      <td>1.000000</td>\n",
       "      <td>0.345512</td>\n",
       "    </tr>\n",
       "    <tr>\n",
       "      <th>Job_satisfaction</th>\n",
       "      <td>0.345512</td>\n",
       "      <td>1.000000</td>\n",
       "    </tr>\n",
       "  </tbody>\n",
       "</table>\n",
       "</div>"
      ],
      "text/plain": [
       "                  Amount_sleep  Job_satisfaction\n",
       "Amount_sleep          1.000000          0.345512\n",
       "Job_satisfaction      0.345512          1.000000"
      ]
     },
     "execution_count": 5,
     "metadata": {},
     "output_type": "execute_result"
    }
   ],
   "source": [
    "df1.corr(method='spearman')"
   ]
  },
  {
   "cell_type": "markdown",
   "id": "f40977fa-5647-4006-acb3-b117ad6e87f2",
   "metadata": {},
   "source": [
    "### Covariance came out to be 0.345 that means they are positively correlated but their correlation is not strong."
   ]
  },
  {
   "cell_type": "markdown",
   "id": "59f88ba4-d04c-48a3-8b5d-0a350a760a14",
   "metadata": {},
   "source": [
    "## Q3. Suppose you are conducting a study to examine the relationship between the number of hours of exercise per week and body mass index (BMI) in a sample of adults. You collected data on both variables for 50 participants. Calculate the Pearson correlation coefficient and the Spearman's rank correlation between these two variables and compare the results."
   ]
  },
  {
   "cell_type": "code",
   "execution_count": 6,
   "id": "5d4a2096-7ef0-4584-9df3-f27e8e493181",
   "metadata": {},
   "outputs": [],
   "source": [
    "df2=pd.DataFrame({'Excercise_hours':[3,3.5,0,4.5,0,6,7,4],\n",
    "                 'BMI':[27,27.6,28,22,15,23,18,23]})"
   ]
  },
  {
   "cell_type": "code",
   "execution_count": 7,
   "id": "c7d1421a-3938-409e-993f-eb40e45b41ef",
   "metadata": {},
   "outputs": [
    {
     "data": {
      "text/html": [
       "<div>\n",
       "<style scoped>\n",
       "    .dataframe tbody tr th:only-of-type {\n",
       "        vertical-align: middle;\n",
       "    }\n",
       "\n",
       "    .dataframe tbody tr th {\n",
       "        vertical-align: top;\n",
       "    }\n",
       "\n",
       "    .dataframe thead th {\n",
       "        text-align: right;\n",
       "    }\n",
       "</style>\n",
       "<table border=\"1\" class=\"dataframe\">\n",
       "  <thead>\n",
       "    <tr style=\"text-align: right;\">\n",
       "      <th></th>\n",
       "      <th>Excercise_hours</th>\n",
       "      <th>BMI</th>\n",
       "    </tr>\n",
       "  </thead>\n",
       "  <tbody>\n",
       "    <tr>\n",
       "      <th>Excercise_hours</th>\n",
       "      <td>1.000000</td>\n",
       "      <td>-0.349398</td>\n",
       "    </tr>\n",
       "    <tr>\n",
       "      <th>BMI</th>\n",
       "      <td>-0.349398</td>\n",
       "      <td>1.000000</td>\n",
       "    </tr>\n",
       "  </tbody>\n",
       "</table>\n",
       "</div>"
      ],
      "text/plain": [
       "                 Excercise_hours       BMI\n",
       "Excercise_hours         1.000000 -0.349398\n",
       "BMI                    -0.349398  1.000000"
      ]
     },
     "execution_count": 7,
     "metadata": {},
     "output_type": "execute_result"
    }
   ],
   "source": [
    "df2.corr(method='spearman')"
   ]
  },
  {
   "cell_type": "code",
   "execution_count": 8,
   "id": "9b25bde6-6a8e-4f1f-a0e4-d8f3f9010a72",
   "metadata": {},
   "outputs": [
    {
     "data": {
      "text/html": [
       "<div>\n",
       "<style scoped>\n",
       "    .dataframe tbody tr th:only-of-type {\n",
       "        vertical-align: middle;\n",
       "    }\n",
       "\n",
       "    .dataframe tbody tr th {\n",
       "        vertical-align: top;\n",
       "    }\n",
       "\n",
       "    .dataframe thead th {\n",
       "        text-align: right;\n",
       "    }\n",
       "</style>\n",
       "<table border=\"1\" class=\"dataframe\">\n",
       "  <thead>\n",
       "    <tr style=\"text-align: right;\">\n",
       "      <th></th>\n",
       "      <th>Excercise_hours</th>\n",
       "      <th>BMI</th>\n",
       "    </tr>\n",
       "  </thead>\n",
       "  <tbody>\n",
       "    <tr>\n",
       "      <th>Excercise_hours</th>\n",
       "      <td>1.000000</td>\n",
       "      <td>-0.121534</td>\n",
       "    </tr>\n",
       "    <tr>\n",
       "      <th>BMI</th>\n",
       "      <td>-0.121534</td>\n",
       "      <td>1.000000</td>\n",
       "    </tr>\n",
       "  </tbody>\n",
       "</table>\n",
       "</div>"
      ],
      "text/plain": [
       "                 Excercise_hours       BMI\n",
       "Excercise_hours         1.000000 -0.121534\n",
       "BMI                    -0.121534  1.000000"
      ]
     },
     "execution_count": 8,
     "metadata": {},
     "output_type": "execute_result"
    }
   ],
   "source": [
    "df2.corr(method='pearson')"
   ]
  },
  {
   "cell_type": "markdown",
   "id": "34d74781-4330-4ca1-ab14-e76cbf51d6d2",
   "metadata": {},
   "source": [
    "### From both the test it can be said that Excercise hours effect the BMI of the body. With the increase in Excercise hours the BMi dewcreases that means body fat percentage decreases."
   ]
  },
  {
   "cell_type": "markdown",
   "id": "b98c741e-4705-4e85-8386-3dc807905a3a",
   "metadata": {},
   "source": [
    "## Q4. A researcher is interested in examining the relationship between the number of hours individuals spend watching television per day and their level of physical activity. The researcher collected data on both variables from a sample of 50 participants. Calculate the Pearson correlation coefficient between these two variables."
   ]
  },
  {
   "cell_type": "code",
   "execution_count": 9,
   "id": "1072d3fa-e2e8-419e-b3fb-b8232765a508",
   "metadata": {},
   "outputs": [],
   "source": [
    "import numpy as np"
   ]
  },
  {
   "cell_type": "code",
   "execution_count": 13,
   "id": "1c03aaa1-361f-4dcf-b6c3-f78d1c11b1f2",
   "metadata": {},
   "outputs": [],
   "source": [
    "A=list(np.random.randint(1,6,50))\n",
    "B=list(np.random.randint(0,4,50))"
   ]
  },
  {
   "cell_type": "code",
   "execution_count": 14,
   "id": "04fac76c-cf20-48ff-a99f-66c8127d42e0",
   "metadata": {},
   "outputs": [],
   "source": [
    "df=pd.DataFrame({'TV_hours':A,'Physical_act':B})"
   ]
  },
  {
   "cell_type": "code",
   "execution_count": 16,
   "id": "e7d76888-6f71-400e-8f89-f8ed6dc910f5",
   "metadata": {},
   "outputs": [
    {
     "data": {
      "text/html": [
       "<div>\n",
       "<style scoped>\n",
       "    .dataframe tbody tr th:only-of-type {\n",
       "        vertical-align: middle;\n",
       "    }\n",
       "\n",
       "    .dataframe tbody tr th {\n",
       "        vertical-align: top;\n",
       "    }\n",
       "\n",
       "    .dataframe thead th {\n",
       "        text-align: right;\n",
       "    }\n",
       "</style>\n",
       "<table border=\"1\" class=\"dataframe\">\n",
       "  <thead>\n",
       "    <tr style=\"text-align: right;\">\n",
       "      <th></th>\n",
       "      <th>TV_hours</th>\n",
       "      <th>Physical_act</th>\n",
       "    </tr>\n",
       "  </thead>\n",
       "  <tbody>\n",
       "    <tr>\n",
       "      <th>0</th>\n",
       "      <td>3</td>\n",
       "      <td>3</td>\n",
       "    </tr>\n",
       "    <tr>\n",
       "      <th>1</th>\n",
       "      <td>1</td>\n",
       "      <td>1</td>\n",
       "    </tr>\n",
       "    <tr>\n",
       "      <th>2</th>\n",
       "      <td>2</td>\n",
       "      <td>2</td>\n",
       "    </tr>\n",
       "    <tr>\n",
       "      <th>3</th>\n",
       "      <td>4</td>\n",
       "      <td>3</td>\n",
       "    </tr>\n",
       "    <tr>\n",
       "      <th>4</th>\n",
       "      <td>1</td>\n",
       "      <td>1</td>\n",
       "    </tr>\n",
       "  </tbody>\n",
       "</table>\n",
       "</div>"
      ],
      "text/plain": [
       "   TV_hours  Physical_act\n",
       "0         3             3\n",
       "1         1             1\n",
       "2         2             2\n",
       "3         4             3\n",
       "4         1             1"
      ]
     },
     "execution_count": 16,
     "metadata": {},
     "output_type": "execute_result"
    }
   ],
   "source": [
    "df.head()"
   ]
  },
  {
   "cell_type": "code",
   "execution_count": 17,
   "id": "2e9dbaeb-3ec9-4c3e-a84a-6ea197489109",
   "metadata": {},
   "outputs": [
    {
     "data": {
      "text/html": [
       "<div>\n",
       "<style scoped>\n",
       "    .dataframe tbody tr th:only-of-type {\n",
       "        vertical-align: middle;\n",
       "    }\n",
       "\n",
       "    .dataframe tbody tr th {\n",
       "        vertical-align: top;\n",
       "    }\n",
       "\n",
       "    .dataframe thead th {\n",
       "        text-align: right;\n",
       "    }\n",
       "</style>\n",
       "<table border=\"1\" class=\"dataframe\">\n",
       "  <thead>\n",
       "    <tr style=\"text-align: right;\">\n",
       "      <th></th>\n",
       "      <th>TV_hours</th>\n",
       "      <th>Physical_act</th>\n",
       "    </tr>\n",
       "  </thead>\n",
       "  <tbody>\n",
       "    <tr>\n",
       "      <th>TV_hours</th>\n",
       "      <td>1.000000</td>\n",
       "      <td>0.011212</td>\n",
       "    </tr>\n",
       "    <tr>\n",
       "      <th>Physical_act</th>\n",
       "      <td>0.011212</td>\n",
       "      <td>1.000000</td>\n",
       "    </tr>\n",
       "  </tbody>\n",
       "</table>\n",
       "</div>"
      ],
      "text/plain": [
       "              TV_hours  Physical_act\n",
       "TV_hours      1.000000      0.011212\n",
       "Physical_act  0.011212      1.000000"
      ]
     },
     "execution_count": 17,
     "metadata": {},
     "output_type": "execute_result"
    }
   ],
   "source": [
    "df.corr(method='pearson')"
   ]
  },
  {
   "cell_type": "markdown",
   "id": "c319dd75-5282-4c31-8e0a-dad9b0b34545",
   "metadata": {},
   "source": [
    "## Q5. A survey was conducted to examine the relationship between age and preference for a particular brand of soft drink. The survey results are shown below:"
   ]
  },
  {
   "cell_type": "markdown",
   "id": "26323490-e183-4674-b7fc-cc5b1afa38e6",
   "metadata": {},
   "source": [
    "## Q6. A company is interested in examining the relationship between the number of sales calls made per day and the number of sales made per week. The company collected data on both variables from a sample of 30 sales representatives. Calculate the Pearson correlation coefficient between these two variables."
   ]
  },
  {
   "cell_type": "code",
   "execution_count": 18,
   "id": "f6e3bcbd-185f-4140-a99b-c9fe6f6b5416",
   "metadata": {},
   "outputs": [],
   "source": [
    "A=list(np.random.randint(10,45,30))\n",
    "B=list(np.random.randint(40,500,30))"
   ]
  },
  {
   "cell_type": "code",
   "execution_count": 23,
   "id": "e6f147bb-b244-484f-a11d-84fbd9d2025f",
   "metadata": {},
   "outputs": [],
   "source": [
    "df1=pd.DataFrame({'Calls_per_day':A,'Calls_per_week':B})"
   ]
  },
  {
   "cell_type": "code",
   "execution_count": 24,
   "id": "e5fd6998-edf2-45c0-9073-a8e480798c73",
   "metadata": {},
   "outputs": [
    {
     "data": {
      "text/html": [
       "<div>\n",
       "<style scoped>\n",
       "    .dataframe tbody tr th:only-of-type {\n",
       "        vertical-align: middle;\n",
       "    }\n",
       "\n",
       "    .dataframe tbody tr th {\n",
       "        vertical-align: top;\n",
       "    }\n",
       "\n",
       "    .dataframe thead th {\n",
       "        text-align: right;\n",
       "    }\n",
       "</style>\n",
       "<table border=\"1\" class=\"dataframe\">\n",
       "  <thead>\n",
       "    <tr style=\"text-align: right;\">\n",
       "      <th></th>\n",
       "      <th>Calls_per_day</th>\n",
       "      <th>Calls_per_week</th>\n",
       "    </tr>\n",
       "  </thead>\n",
       "  <tbody>\n",
       "    <tr>\n",
       "      <th>0</th>\n",
       "      <td>16</td>\n",
       "      <td>332</td>\n",
       "    </tr>\n",
       "    <tr>\n",
       "      <th>1</th>\n",
       "      <td>12</td>\n",
       "      <td>439</td>\n",
       "    </tr>\n",
       "    <tr>\n",
       "      <th>2</th>\n",
       "      <td>32</td>\n",
       "      <td>483</td>\n",
       "    </tr>\n",
       "    <tr>\n",
       "      <th>3</th>\n",
       "      <td>38</td>\n",
       "      <td>442</td>\n",
       "    </tr>\n",
       "    <tr>\n",
       "      <th>4</th>\n",
       "      <td>18</td>\n",
       "      <td>256</td>\n",
       "    </tr>\n",
       "  </tbody>\n",
       "</table>\n",
       "</div>"
      ],
      "text/plain": [
       "   Calls_per_day  Calls_per_week\n",
       "0             16             332\n",
       "1             12             439\n",
       "2             32             483\n",
       "3             38             442\n",
       "4             18             256"
      ]
     },
     "execution_count": 24,
     "metadata": {},
     "output_type": "execute_result"
    }
   ],
   "source": [
    "df1.head()"
   ]
  },
  {
   "cell_type": "code",
   "execution_count": 25,
   "id": "cfcdd244-da05-43ea-baa5-026041e58d60",
   "metadata": {},
   "outputs": [
    {
     "data": {
      "text/html": [
       "<div>\n",
       "<style scoped>\n",
       "    .dataframe tbody tr th:only-of-type {\n",
       "        vertical-align: middle;\n",
       "    }\n",
       "\n",
       "    .dataframe tbody tr th {\n",
       "        vertical-align: top;\n",
       "    }\n",
       "\n",
       "    .dataframe thead th {\n",
       "        text-align: right;\n",
       "    }\n",
       "</style>\n",
       "<table border=\"1\" class=\"dataframe\">\n",
       "  <thead>\n",
       "    <tr style=\"text-align: right;\">\n",
       "      <th></th>\n",
       "      <th>Calls_per_day</th>\n",
       "      <th>Calls_per_week</th>\n",
       "    </tr>\n",
       "  </thead>\n",
       "  <tbody>\n",
       "    <tr>\n",
       "      <th>Calls_per_day</th>\n",
       "      <td>1.000000</td>\n",
       "      <td>-0.025028</td>\n",
       "    </tr>\n",
       "    <tr>\n",
       "      <th>Calls_per_week</th>\n",
       "      <td>-0.025028</td>\n",
       "      <td>1.000000</td>\n",
       "    </tr>\n",
       "  </tbody>\n",
       "</table>\n",
       "</div>"
      ],
      "text/plain": [
       "                Calls_per_day  Calls_per_week\n",
       "Calls_per_day        1.000000       -0.025028\n",
       "Calls_per_week      -0.025028        1.000000"
      ]
     },
     "execution_count": 25,
     "metadata": {},
     "output_type": "execute_result"
    }
   ],
   "source": [
    "df1.corr(method='pearson')"
   ]
  },
  {
   "cell_type": "code",
   "execution_count": null,
   "id": "7ff5fce9-b075-4dce-9d54-d29aa623389e",
   "metadata": {},
   "outputs": [],
   "source": []
  }
 ],
 "metadata": {
  "kernelspec": {
   "display_name": "Python 3 (ipykernel)",
   "language": "python",
   "name": "python3"
  },
  "language_info": {
   "codemirror_mode": {
    "name": "ipython",
    "version": 3
   },
   "file_extension": ".py",
   "mimetype": "text/x-python",
   "name": "python",
   "nbconvert_exporter": "python",
   "pygments_lexer": "ipython3",
   "version": "3.10.8"
  }
 },
 "nbformat": 4,
 "nbformat_minor": 5
}
